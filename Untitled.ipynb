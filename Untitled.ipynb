{
 "cells": [
  {
   "cell_type": "code",
   "execution_count": 12,
   "id": "52a55cef-6221-4494-a48f-2ab77967e857",
   "metadata": {},
   "outputs": [
    {
     "name": "stdout",
     "output_type": "stream",
     "text": [
      "({'Ten': 'Nguyen Van A', 'MSSV': 1001, 'Ngay thang nam sinh': '01/01/2001', 'Que quan': 'A Cat'}, {'Ten': 'Nguyen Van B', 'MSSV': 1002, 'Ngay thang nam sinh': '01/02/2001', 'Que quan': 'B Cat'}, {'Ten': 'Nguyen Van C', 'MSSV': 1003, 'Ngay thang nam sinh': '01/03/2001', 'Que quan': 'C Cat'}, {'Ten': 'Nguyen Van D', 'MSSV': 1004, 'Ngay thang nam sinh': '01/04/2001', 'Que quan': 'D Cat'}, {'Ten': 'Nguyen Van E', 'MSSV': 1005, 'Ngay thang nam sinh': '01/05/2001', 'Que quan': 'E Cat'})\n"
     ]
    }
   ],
   "source": [
    "#3.Tạo module Lớp 12A và 12B với 5 sinh viên kiểu dữ liệu dictionary gồm: Tên, mssv, ngày tháng năm sinh, quê quán.\n",
    "#+ Tạo module lopLapTrinhMang\n",
    "#+ Import 3 sinh viên từ lớp 12A và 2 sinh viên từ 12B\n",
    "#+ Xuất ra màn hình danh sách tất cả sinh viên lớp Lập Trình Mạng\n",
    "from LopLapTrinhMang import *\n",
    "a = SV1,SV2,SV3,SV4,SV5\n",
    "print(a)"
   ]
  }
 ],
 "metadata": {
  "kernelspec": {
   "display_name": "Python 3 (ipykernel)",
   "language": "python",
   "name": "python3"
  },
  "language_info": {
   "codemirror_mode": {
    "name": "ipython",
    "version": 3
   },
   "file_extension": ".py",
   "mimetype": "text/x-python",
   "name": "python",
   "nbconvert_exporter": "python",
   "pygments_lexer": "ipython3",
   "version": "3.9.12"
  }
 },
 "nbformat": 4,
 "nbformat_minor": 5
}
